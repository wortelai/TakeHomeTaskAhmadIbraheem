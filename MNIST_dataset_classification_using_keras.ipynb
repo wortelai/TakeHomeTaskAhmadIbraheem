{
 "cells": [
  {
   "cell_type": "code",
   "execution_count": 1,
   "metadata": {
    "id": "PKZIyx9Whs-H"
   },
   "outputs": [
    {
     "name": "stderr",
     "output_type": "stream",
     "text": [
      "Using TensorFlow backend.\n"
     ]
    }
   ],
   "source": [
    "# Import libraries\n",
    "import numpy as np\n",
    "import matplotlib.pyplot as plt\n",
    "import tensorflow as tf\n",
    "import keras\n",
    "from keras.utils import np_utils\n",
    "from keras.models import Sequential\n",
    "from keras.layers import Dense, Conv2D, Flatten, MaxPooling2D, Activation\n",
    "from keras.layers.core import Dense, Dropout, Activation, Flatten\n",
    "from keras.layers.convolutional import Convolution2D, MaxPooling2D\n",
    "from keras.optimizers import SGD,RMSprop,adam\n",
    "from keras.datasets import mnist\n",
    "from tensorflow.keras.models import Sequential\n",
    "import tensorflow.keras.layers as tfl"
   ]
  },
  {
   "cell_type": "markdown",
   "metadata": {
    "id": "c4M9cVuEhs-M"
   },
   "source": [
    "# Data Reading and Labeling"
   ]
  },
  {
   "cell_type": "code",
   "execution_count": 2,
   "metadata": {
    "colab": {
     "base_uri": "https://localhost:8080/"
    },
    "id": "WCeiJl-zjX03",
    "outputId": "49538caa-754b-43e4-bbb2-ba05e556af6e"
   },
   "outputs": [],
   "source": [
    "#loading data from the mnist dataset\n",
    "(train_X, train_y), (test_X, test_y) = mnist.load_data()"
   ]
  },
  {
   "cell_type": "code",
   "execution_count": 3,
   "metadata": {
    "colab": {
     "base_uri": "https://localhost:8080/",
     "height": 268
    },
    "id": "3H1kiohlCbZd",
    "outputId": "a32c9e11-adf3-47ea-914b-78a0749382f3",
    "scrolled": true
   },
   "outputs": [
    {
     "data": {
      "image/png": "[encoded data removed]",
      "text/plain": [
       "<Figure size 432x288 with 9 Axes>"
      ]
     },
     "metadata": {
      "needs_background": "light"
     },
     "output_type": "display_data"
    }
   ],
   "source": [
    "# Plotting the input images\n",
    "from matplotlib import pyplot\n",
    "\n",
    "for i in range(9):  \n",
    "    pyplot.subplot(330 + 1 + i)\n",
    "    pyplot.imshow(test_X[i], cmap=pyplot.get_cmap('gray'))\n",
    "pyplot.show()"
   ]
  },
  {
   "cell_type": "markdown",
   "metadata": {
    "id": "_wWaUPQThs-S"
   },
   "source": [
    "# Preprocessing steps"
   ]
  },
  {
   "cell_type": "code",
   "execution_count": 4,
   "metadata": {
    "colab": {
     "base_uri": "https://localhost:8080/"
    },
    "id": "TPagUnZzCbZh",
    "outputId": "a956eac7-8c12-4c39-fd30-ff33f2ed2f0d"
   },
   "outputs": [
    {
     "name": "stdout",
     "output_type": "stream",
     "text": [
      "shape of train_y: (60000, 10)\n",
      "Shape of train_X: (10000, 28, 28, 1)\n"
     ]
    }
   ],
   "source": [
    "# converting Y to categorical values\n",
    "# expanding the input by 1 axis to feed it to conv2D neural network\n",
    "\n",
    "train_y = np_utils.to_categorical(train_y, 10)\n",
    "print(f'shape of train_y: {train_y.shape}')\n",
    "test_y = np_utils.to_categorical(test_y, 10)\n",
    "train_X = np.expand_dims(train_X, axis=3)\n",
    "test_X = np.expand_dims(test_X, axis=3)\n",
    "print(f'Shape of train_X: {test_X.shape}')"
   ]
  },
  {
   "cell_type": "markdown",
   "metadata": {
    "id": "8b_3HCe0hs-W"
   },
   "source": [
    "# Define the model "
   ]
  },
  {
   "cell_type": "code",
   "execution_count": 5,
   "metadata": {
    "colab": {
     "base_uri": "https://localhost:8080/"
    },
    "id": "hQlYu0SrCbZl",
    "outputId": "9a3750d6-d539-4ba6-c06b-150aa06f5f64",
    "scrolled": true
   },
   "outputs": [
    {
     "name": "stdout",
     "output_type": "stream",
     "text": [
      "Model: \"sequential\"\n",
      "_________________________________________________________________\n",
      "Layer (type)                 Output Shape              Param #   \n",
      "=================================================================\n",
      "conv2d (Conv2D)              (None, 24, 24, 20)        520       \n",
      "_________________________________________________________________\n",
      "max_pooling2d (MaxPooling2D) (None, 12, 12, 20)        0         \n",
      "_________________________________________________________________\n",
      "conv2d_1 (Conv2D)            (None, 8, 8, 50)          25050     \n",
      "_________________________________________________________________\n",
      "max_pooling2d_1 (MaxPooling2 (None, 4, 4, 50)          0         \n",
      "_________________________________________________________________\n",
      "dropout (Dropout)            (None, 4, 4, 50)          0         \n",
      "_________________________________________________________________\n",
      "flatten (Flatten)            (None, 800)               0         \n",
      "_________________________________________________________________\n",
      "dense (Dense)                (None, 500)               400500    \n",
      "_________________________________________________________________\n",
      "dropout_1 (Dropout)          (None, 500)               0         \n",
      "_________________________________________________________________\n",
      "dense_1 (Dense)              (None, 10)                5010      \n",
      "=================================================================\n",
      "Total params: 431,080\n",
      "Trainable params: 431,080\n",
      "Non-trainable params: 0\n",
      "_________________________________________________________________\n"
     ]
    }
   ],
   "source": [
    "#Defining the model and the loss function (categorical_crossentropy)\n",
    "\n",
    "model = Sequential()\n",
    "model.add(tfl.Conv2D(20, (5,5),activation='relu', input_shape = (28, 28, 1)))\n",
    "model.add(tfl.MaxPool2D((2,2), strides = (2,2)))\n",
    "model.add(tfl.Conv2D(50, (5,5), activation='relu'))\n",
    "model.add(tfl.MaxPool2D((2,2), strides = (2,2)))\n",
    "model.add(tfl.Dropout(0.5))\n",
    "model.add(tfl.Flatten())\n",
    "model.add(tfl.Dense(500,activation='relu'))\n",
    "model.add(tfl.Dropout(0.5))\n",
    "model.add(tfl.Dense(10, activation='softmax'))\n",
    "\n",
    "\n",
    "model.compile(loss=\"categorical_crossentropy\",\n",
    "              optimizer=\"adam\",\n",
    "              metrics=['accuracy'])\n",
    "\n",
    "# Viewing model_configuration\n",
    "model.summary()"
   ]
  },
  {
   "cell_type": "code",
   "execution_count": 6,
   "metadata": {},
   "outputs": [
    {
     "name": "stdout",
     "output_type": "stream",
     "text": [
      "Epoch 1/2\n",
      "1080/1080 [==============================] - 40s 36ms/step - loss: 0.9525 - accuracy: 0.8221 - val_loss: 0.0796 - val_accuracy: 0.9790\n",
      "Epoch 2/2\n",
      "1080/1080 [==============================] - 33s 31ms/step - loss: 0.1982 - accuracy: 0.9405 - val_loss: 0.0579 - val_accuracy: 0.9823\n"
     ]
    }
   ],
   "source": [
    "#train and fit with appropriate batch size, epochs and validation set\n",
    "history = model.fit(train_X, train_y, validation_split=0.1, batch_size = 50, epochs=5)"
   ]
  },
  {
   "cell_type": "code",
   "execution_count": 15,
   "metadata": {
    "colab": {
     "base_uri": "https://localhost:8080/",
     "height": 399
    },
    "id": "RBweyJJ7hs-Y",
    "outputId": "b444f2f7-6ec2-4924-cbd8-d79556c5cf06"
   },
   "outputs": [],
   "source": [
    "def Loss_per_epoch(history):\n",
    "    plt.plot(np.squeeze(history.history[\"loss\"]))\n",
    "    plt.ylabel('cost')\n",
    "    plt.xlabel('epochs')\n",
    "    plt.show()"
   ]
  },
  {
   "cell_type": "code",
   "execution_count": 40,
   "metadata": {},
   "outputs": [],
   "source": [
    "# Evaluate the model w.r.t Test Loss and Test Accuracy\n",
    "def Model_metrics(test_x, test_y):\n",
    "    score = model.evaluate(test_x, test_y)\n",
    "    print('Test Loss:', score[0])\n",
    "    print('Test accuracy:', score[1])"
   ]
  },
  {
   "cell_type": "code",
   "execution_count": 58,
   "metadata": {
    "colab": {
     "base_uri": "https://localhost:8080/",
     "height": 606
    },
    "id": "a_hS8S3dhs-a",
    "outputId": "9cab5a90-b202-4320-cd51-dcf84bca3274"
   },
   "outputs": [],
   "source": [
    "# Predict model on Test Data and plot confusion matrix\n",
    "def Confusion_matrix(test_X, test_y):\n",
    "    Y_pred = model.predict(test_X)\n",
    "    print(Y_pred)\n",
    "\n",
    "    # Printing the confusion matrix\n",
    "    from sklearn.metrics import classification_report,confusion_matrix\n",
    "    import itertools\n",
    "\n",
    "    # Print the classes of the Prediction\n",
    "    y_pred = np.argmax(model.predict(test_X),axis =1)\n",
    "    print(y_pred.shape)\n",
    "\n",
    "    target_names = ['0','1','2','3','4','5','6','7','8','9']\n",
    "\n",
    "    # Plotting the confusion matrix\n",
    "    def plot_confusion_matrix(cm, classes,\n",
    "                              normalize=False,\n",
    "                              title='Confusion matrix',\n",
    "                              cmap=plt.cm.Blues):\n",
    "        \"\"\"\n",
    "        This function prints and plots the confusion matrix.\n",
    "        Normalization can be applied by setting `normalize=True`.\n",
    "        \"\"\"\n",
    "        plt.imshow(cm, interpolation='nearest', cmap=cmap)\n",
    "        plt.title(title)\n",
    "        plt.colorbar()\n",
    "        tick_marks = np.arange(len(classes))\n",
    "        plt.xticks(tick_marks, classes, rotation=45)\n",
    "        plt.yticks(tick_marks, classes)\n",
    "\n",
    "        if normalize:\n",
    "            cm = cm.astype('float') / cm.sum(axis=1)[:, np.newaxis]\n",
    "            print(\"Normalized confusion matrix\")\n",
    "        else:\n",
    "            print('Confusion matrix, without normalization')\n",
    "\n",
    "        print(cm)\n",
    "\n",
    "        thresh = cm.max() / 2.\n",
    "        for i, j in itertools.product(range(cm.shape[0]), range(cm.shape[1])):\n",
    "            plt.text(j, i, cm[i, j],\n",
    "                     horizontalalignment=\"center\",\n",
    "                     color=\"white\" if cm[i, j] > thresh else \"black\")\n",
    "\n",
    "        plt.tight_layout()\n",
    "        plt.ylabel('True label')\n",
    "        plt.xlabel('Predicted label')\n",
    "\n",
    "    #Computation  confusion matrix\n",
    "    #print(np.argmax(y_test,axis=1))\n",
    "    cnf_matrix = (confusion_matrix(np.argmax(test_y,axis=1), y_pred))\n",
    "\n",
    "    np.set_printoptions(precision=3)\n",
    "\n",
    "    plt.figure()\n",
    "\n",
    "    # Plotting non-normalized confusion matrix\n",
    "    plot_confusion_matrix(cnf_matrix, classes=target_names,\n",
    "                          title='Confusion matrix')\n",
    "    plt.show()"
   ]
  },
  {
   "cell_type": "code",
   "execution_count": 16,
   "metadata": {},
   "outputs": [
    {
     "data": {
      "image/png": "[encoded data removed]",
      "text/plain": [
       "<Figure size 432x288 with 1 Axes>"
      ]
     },
     "metadata": {
      "needs_background": "light"
     },
     "output_type": "display_data"
    }
   ],
   "source": [
    "#print the loss per iteration\n",
    "Loss_per_epoch(history)"
   ]
  },
  {
   "cell_type": "code",
   "execution_count": 43,
   "metadata": {},
   "outputs": [
    {
     "name": "stdout",
     "output_type": "stream",
     "text": [
      "313/313 [==============================] - 3s 10ms/step - loss: 0.0422 - accuracy: 0.9873\n",
      "Test Loss: 0.042164117097854614\n",
      "Test accuracy: 0.9872999787330627\n"
     ]
    }
   ],
   "source": [
    "#plotting the model metrics\n",
    "Model_metrics(test_X, test_y)"
   ]
  },
  {
   "cell_type": "code",
   "execution_count": 44,
   "metadata": {},
   "outputs": [
    {
     "name": "stdout",
     "output_type": "stream",
     "text": [
      "[[2.207e-10 1.028e-08 5.310e-07 ... 1.000e+00 4.173e-09 7.925e-07]\n",
      " [3.240e-08 6.598e-08 1.000e+00 ... 2.291e-09 4.122e-09 7.521e-10]\n",
      " [5.154e-05 9.991e-01 3.090e-04 ... 5.258e-05 3.389e-04 2.168e-05]\n",
      " ...\n",
      " [4.656e-13 5.429e-09 5.540e-11 ... 1.409e-07 1.423e-06 3.920e-07]\n",
      " [1.014e-08 1.123e-10 3.533e-10 ... 2.010e-08 2.119e-05 5.703e-07]\n",
      " [7.921e-08 6.975e-10 1.536e-08 ... 3.036e-12 6.214e-09 3.969e-11]]\n",
      "(10000,)\n",
      "Confusion matrix, without normalization\n",
      "[[ 969    0    4    0    1    0    4    0    1    1]\n",
      " [   3 1127    0    1    0    0    2    1    1    0]\n",
      " [   0    0 1025    0    0    0    1    5    1    0]\n",
      " [   0    0    1 1006    0    1    0    1    1    0]\n",
      " [   0    0    2    0  966    0    4    0    1    9]\n",
      " [   0    0    0   11    0  876    3    1    1    0]\n",
      " [   1    3    1    0    2    1  949    0    1    0]\n",
      " [   0    6    6    2    1    0    0 1011    0    2]\n",
      " [   0    0    3    2    2    3    2    0  962    0]\n",
      " [   0    3    0    4    7    4    0    3    6  982]]\n"
     ]
    },
    {
     "data": {
      "image/png": "[encoded data removed]",
      "text/plain": [
       "<Figure size 432x288 with 2 Axes>"
      ]
     },
     "metadata": {
      "needs_background": "light"
     },
     "output_type": "display_data"
    }
   ],
   "source": [
    "#plotting the confusion matrix\n",
    "Confusion_matrix(test_X,test_y)"
   ]
  }
 ],
 "metadata": {
  "accelerator": "GPU",
  "colab": {
   "collapsed_sections": [],
   "name": "MNIST dataset classification using keras.ipynb",
   "provenance": []
  },
  "kernelspec": {
   "display_name": "Python 3",
   "language": "python",
   "name": "python3"
  },
  "language_info": {
   "codemirror_mode": {
    "name": "ipython",
    "version": 3
   },
   "file_extension": ".py",
   "mimetype": "text/x-python",
   "name": "python",
   "nbconvert_exporter": "python",
   "pygments_lexer": "ipython3",
   "version": "3.8.8"
  }
 },
 "nbformat": 4,
 "nbformat_minor": 1
}
