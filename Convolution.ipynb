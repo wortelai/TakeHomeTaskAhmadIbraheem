{
 "cells": [
  {
   "cell_type": "code",
   "execution_count": null,
   "id": "fddfa00a",
   "metadata": {},
   "outputs": [],
   "source": [
    "import numpy as np"
   ]
  },
  {
   "cell_type": "code",
   "execution_count": 18,
   "id": "92c2f933",
   "metadata": {},
   "outputs": [],
   "source": [
    "#defining out convolution function that takes 3 dimensional input image and 2 dimensional filter\n",
    "def Conv(img, filter):\n",
    "    m_channels, m_rows, m_cols = img.shape\n",
    "    n_rows, n_cols = filter.shape\n",
    "    r = np.zeros((m_rows-n_rows+1,m_cols-n_cols+1))\n",
    "    #print(m_rows, m_cols, m_channels)\n",
    "\n",
    "    for i in range(m_rows-n_rows+1):\n",
    "        for j in range(m_cols-n_cols+1):\n",
    "            for k in range(m_channels):\n",
    "                r[i,j] += np.sum(np.multiply(img[k,i:n_rows+i,j:n_cols+j], filter))\n",
    "\n",
    "    return r"
   ]
  },
  {
   "cell_type": "code",
   "execution_count": 19,
   "id": "b7a0751e",
   "metadata": {},
   "outputs": [
    {
     "name": "stdout",
     "output_type": "stream",
     "text": [
      " The result of convolving image \n",
      " [[[1 2 3]\n",
      "  [4 5 6]\n",
      "  [7 8 9]]\n",
      "\n",
      " [[1 2 3]\n",
      "  [4 5 6]\n",
      "  [7 8 9]]\n",
      "\n",
      " [[1 2 3]\n",
      "  [4 5 6]\n",
      "  [7 8 9]]] \n",
      "\n",
      " with filter \n",
      " [[1 2]\n",
      " [3 4]]\n",
      "\n",
      " is: \n",
      " [[111. 141.]\n",
      " [201. 231.]]\n"
     ]
    }
   ],
   "source": [
    "#defining our image and filter and calling the convolution function\n",
    "\n",
    "img = np.array([[[1,2,3],[4,5,6],[7,8,9]],\n",
    "               [[1,2,3],[4,5,6],[7,8,9]],\n",
    "               [[1,2,3],[4,5,6],[7,8,9]]])\n",
    "\n",
    "filter = np.array([[1,2],[3,4]])\n",
    "\n",
    "conv_result = Conv(img, filter)\n",
    "\n",
    "print(f' The result of convolving image \\n {img} \\n\\n with filter \\n {filter}\\n\\n is: \\n {conv_result}')"
   ]
  },
  {
   "cell_type": "code",
   "execution_count": null,
   "id": "37d504d7",
   "metadata": {},
   "outputs": [],
   "source": []
  }
 ],
 "metadata": {
  "kernelspec": {
   "display_name": "Python 3",
   "language": "python",
   "name": "python3"
  },
  "language_info": {
   "codemirror_mode": {
    "name": "ipython",
    "version": 3
   },
   "file_extension": ".py",
   "mimetype": "text/x-python",
   "name": "python",
   "nbconvert_exporter": "python",
   "pygments_lexer": "ipython3",
   "version": "3.8.8"
  }
 },
 "nbformat": 4,
 "nbformat_minor": 5
}
